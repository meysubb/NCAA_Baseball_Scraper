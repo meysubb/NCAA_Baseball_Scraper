{
 "cells": [
  {
   "cell_type": "code",
   "execution_count": 1,
   "metadata": {},
   "outputs": [],
   "source": [
    "import dropbox\n",
    "import os\n",
    "import scraperfunctions\n",
    "import scrapersettings\n",
    "import csv\n",
    "import re\n",
    "from bs4 import BeautifulSoup"
   ]
  },
  {
   "cell_type": "code",
   "execution_count": 2,
   "metadata": {},
   "outputs": [],
   "source": [
    "team_mapping = scraperfunctions.get_team_mappings()"
   ]
  },
  {
   "cell_type": "code",
   "execution_count": 3,
   "metadata": {},
   "outputs": [],
   "source": [
    "#team_mapping['697']\n",
    "team = '697'"
   ]
  },
  {
   "cell_type": "code",
   "execution_count": 4,
   "metadata": {},
   "outputs": [],
   "source": [
    "url = 'https://stats.ncaa.org/player/game_by_game?game_sport_year_ctl_id=' + \\\n",
    "                scrapersettings.year_index + '&org_id=' + team + '&stats_player_seq=-100'"
   ]
  },
  {
   "cell_type": "code",
   "execution_count": 5,
   "metadata": {},
   "outputs": [],
   "source": [
    "import requests"
   ]
  },
  {
   "cell_type": "code",
   "execution_count": 6,
   "metadata": {},
   "outputs": [],
   "source": [
    "result = requests.get(url)\n",
    "c = result.content"
   ]
  },
  {
   "cell_type": "code",
   "execution_count": 7,
   "metadata": {},
   "outputs": [],
   "source": [
    "team_mainpage_data_soup = BeautifulSoup(c)"
   ]
  },
  {
   "cell_type": "code",
   "execution_count": 8,
   "metadata": {},
   "outputs": [],
   "source": [
    "schedule_list = []"
   ]
  },
  {
   "cell_type": "code",
   "execution_count": 9,
   "metadata": {},
   "outputs": [],
   "source": [
    "for link in team_mainpage_data_soup.find_all('a'): # Locate all links in the document\n",
    "            if \"/game/index/\" in link.get('href'): # If they contain a URL segment suggesting it is a game...\n",
    "                if link.get('href') == \"/contests/scoreboards\" :\n",
    "                    continue \n",
    "                game_link = str(scrapersettings.domain_base + link.get('href')).split(\"?\")[0] # Strip out any URL variables since we don't need them\n",
    "                try:\n",
    "                    opponent_id = link.find_previous(\"td\").find(\"a\").get('href').split(\"/teams/\")[1]\n",
    "                    print(opponent_id)\n",
    "                except:\n",
    "                    opponent_id = 0\n",
    "                opponent_text = link.find_previous(\"td\").find_previous(\"td\").get_text().encode('utf-8').strip()\n",
    "                if \"@\" in opponent_text: # Checks if home or away; note: if it's in a neutral site, this distinction may not be accurate (but a neutral site is flagged). Assumes all games against non-D-I/III competition is at home.\n",
    "                    home_team = opponent_id\n",
    "                    away_team = team\n",
    "                    if \"<br/>\" in str(link.find_previous(\"a\").encode('utf-8').strip()):\n",
    "                        neutral = \"1\"\n",
    "                    else:\n",
    "                        neutral = \"0\"\n",
    "                else:\n",
    "                    home_team = team\n",
    "                    away_team = opponent_id\n",
    "                    neutral = \"0\"\n",
    "                date = link.find_previous(\"td\").find_previous(\"td\").find_previous(\"td\").get_text() # Get the date for the game\n",
    "                game_id = game_link.split(\"/\")[-1] # Get the game ID from the URL (last set of digits)\n",
    "                schedule_list.append([game_id, home_team, away_team, date, neutral, game_link])"
   ]
  },
  {
   "cell_type": "code",
   "execution_count": 10,
   "metadata": {},
   "outputs": [
    {
     "data": {
      "text/plain": [
       "<a href=\"/teams/471284\"> Duke <br/>@Morgantown, WV</a>"
      ]
     },
     "execution_count": 10,
     "metadata": {},
     "output_type": "execute_result"
    }
   ],
   "source": [
    "link"
   ]
  },
  {
   "cell_type": "code",
   "execution_count": 13,
   "metadata": {},
   "outputs": [],
   "source": [
    "roster_url = str(scrapersettings.domain_base) + \"/team/\" + team + \"/stats/\" + str(scrapersettings.year_index)"
   ]
  },
  {
   "cell_type": "code",
   "execution_count": 14,
   "metadata": {},
   "outputs": [
    {
     "data": {
      "text/plain": [
       "'http://stats.ncaa.org/team/697/stats/14781'"
      ]
     },
     "execution_count": 14,
     "metadata": {},
     "output_type": "execute_result"
    }
   ],
   "source": [
    "roster_url"
   ]
  },
  {
   "cell_type": "code",
   "execution_count": 15,
   "metadata": {},
   "outputs": [],
   "source": [
    "roster_page_data = scraperfunctions.grabber(roster_url, scrapersettings.params, scrapersettings.http_header) # Grab the main page for each team\n",
    "roster_page_data_soup = BeautifulSoup(roster_page_data)\n",
    "stat_grid = roster_page_data_soup.select('#stat_grid')"
   ]
  },
  {
   "cell_type": "code",
   "execution_count": 16,
   "metadata": {},
   "outputs": [],
   "source": [
    "hit_headers = []"
   ]
  },
  {
   "cell_type": "code",
   "execution_count": 17,
   "metadata": {},
   "outputs": [],
   "source": [
    "for row,val in enumerate(roster_page_data_soup.select('th')):\n",
    "        hit_headers.append(val.get_text())"
   ]
  },
  {
   "cell_type": "code",
   "execution_count": 18,
   "metadata": {},
   "outputs": [],
   "source": [
    "pitching_roster_url = str(scrapersettings.domain_base) + \"/team/\" + team + \"/stats?id=\" + str(scrapersettings.year_index) + \"&year_stat_category_id=14644\"\n",
    "pitching_team_name = team_mapping[team][0]\n",
    "pitching_page_data = scraperfunctions.grabber(pitching_roster_url,scrapersettings.params,scrapersettings.http_header)\n",
    "pitching_page_data_soup = BeautifulSoup(pitching_page_data)\n",
    "#pitching_stat_grid = pitching_page_data_soup.select('#stat_grid td , .sorting_asc , .sorting')"
   ]
  },
  {
   "cell_type": "code",
   "execution_count": 23,
   "metadata": {},
   "outputs": [
    {
     "data": {
      "text/plain": [
       "33"
      ]
     },
     "execution_count": 23,
     "metadata": {},
     "output_type": "execute_result"
    }
   ],
   "source": [
    "len(pitching_page_data_soup.find('tbody').findAll('tr'))"
   ]
  },
  {
   "cell_type": "code",
   "execution_count": 25,
   "metadata": {},
   "outputs": [],
   "source": [
    "pitching_list = []"
   ]
  },
  {
   "cell_type": "code",
   "execution_count": 32,
   "metadata": {},
   "outputs": [],
   "source": [
    "for rownum, raw in enumerate(pitching_page_data_soup.find('tbody').findAll('tr')):\n",
    "        pit_tds = raw.findAll('td')\n",
    "        pit_player_id = pit_tds[1].find('a').get('href').split('=')[-1]\n",
    "        pitstats = [pit_player_id,team,pitching_team_name]\n",
    "        for val, row in enumerate(pit_tds):\n",
    "            if val == 1:\n",
    "                result = scraperfunctions.run_safely(row.find('a').get_text().encode('utf-8').strip())\n",
    "            else:\n",
    "                result = scraperfunctions.run_safely(row.get_text().strip())\n",
    "            pitstats.append(result)\n",
    "            pitching_list.append(pitstats)"
   ]
  },
  {
   "cell_type": "code",
   "execution_count": 33,
   "metadata": {},
   "outputs": [
    {
     "data": {
      "text/plain": [
       "[<td>17</td>,\n",
       " <td><a href=\"/player/index?game_sport_year_ctl_id=14781&amp;stats_player_seq=2119839\">Geisler, Coldon</a></td>,\n",
       " <td>Fr</td>,\n",
       " <td>P</td>,\n",
       " <td>2</td>,\n",
       " <td></td>,\n",
       " <td data-order=\"2\" style=\"text-align:right\">\\n<div>\\n      \\n        \\n          2\\n        \\n      \\n    </div>\\n</td>,\n",
       " <td data-order=\"2\" style=\"text-align:right\">\\n<div>\\n      \\n        \\n          2\\n        \\n      \\n    </div>\\n</td>,\n",
       " <td data-order=\"-\" style=\"text-align:right\">\\n<div>\\n</div>\\n</td>,\n",
       " <td data-order=\"0.00\" style=\"text-align:right\">\\n<div>\\n      \\n        \\n          0.00\\n        \\n      \\n    </div>\\n</td>,\n",
       " <td data-order=\"0.2\" style=\"text-align:right\">\\n<div>\\n      \\n        \\n          0.2\\n        \\n      \\n    </div>\\n</td>,\n",
       " <td data-order=\"-\" style=\"text-align:right\">\\n<div>\\n</div>\\n</td>,\n",
       " <td data-order=\"1\" style=\"text-align:right\">\\n<div>\\n      \\n        \\n          1\\n        \\n      \\n    </div>\\n</td>,\n",
       " <td data-order=\"1\" style=\"text-align:right\">\\n<div>\\n      \\n        \\n          1\\n        \\n      \\n    </div>\\n</td>,\n",
       " <td data-order=\"-\" style=\"text-align:right\">\\n<div>\\n</div>\\n</td>,\n",
       " <td data-order=\"1\" style=\"text-align:right\">\\n<div>\\n      \\n        \\n          1\\n        \\n      \\n    </div>\\n</td>,\n",
       " <td data-order=\"1\" style=\"text-align:right\">\\n<div>\\n      \\n        \\n          1\\n        \\n      \\n    </div>\\n</td>,\n",
       " <td data-order=\"-\" style=\"text-align:right\">\\n<div>\\n</div>\\n</td>,\n",
       " <td data-order=\"6\" style=\"text-align:right\">\\n<div>\\n      \\n        \\n          6\\n        \\n      \\n    </div>\\n</td>,\n",
       " <td data-order=\"4\" style=\"text-align:right\">\\n<div>\\n      \\n        \\n          4\\n        \\n      \\n    </div>\\n</td>,\n",
       " <td data-order=\"-\" style=\"text-align:right\">\\n<div>\\n</div>\\n</td>,\n",
       " <td data-order=\"-\" style=\"text-align:right\">\\n<div>\\n</div>\\n</td>,\n",
       " <td data-order=\"-\" style=\"text-align:right\">\\n<div>\\n</div>\\n</td>,\n",
       " <td data-order=\"-\" style=\"text-align:right\">\\n<div>\\n</div>\\n</td>,\n",
       " <td data-order=\"2\" style=\"text-align:right\">\\n<div>\\n      \\n        \\n          2\\n        \\n      \\n    </div>\\n</td>,\n",
       " <td data-order=\"1\" style=\"text-align:right\">\\n<div>\\n      \\n        \\n          1\\n        \\n      \\n    </div>\\n</td>,\n",
       " <td data-order=\"-\" style=\"text-align:right\">\\n<div>\\n</div>\\n</td>,\n",
       " <td data-order=\"-\" style=\"text-align:right\">\\n<div>\\n</div>\\n</td>,\n",
       " <td data-order=\"-\" style=\"text-align:right\">\\n<div>\\n</div>\\n</td>,\n",
       " <td data-order=\"-\" style=\"text-align:right\">\\n<div>\\n</div>\\n</td>,\n",
       " <td data-order=\"-\" style=\"text-align:right\">\\n<div>\\n</div>\\n</td>,\n",
       " <td data-order=\"34\" style=\"text-align:right\">\\n<div>\\n      \\n        \\n          34\\n        \\n      \\n    </div>\\n</td>,\n",
       " <td data-order=\"-\" style=\"text-align:right\">\\n<div>\\n</div>\\n</td>,\n",
       " <td data-order=\"1\" style=\"text-align:right\">\\n<div>\\n      \\n        \\n          1\\n        \\n      \\n    </div>\\n</td>,\n",
       " <td data-order=\"-\" style=\"text-align:right\">\\n<div>\\n</div>\\n</td>,\n",
       " <td data-order=\"-\" style=\"text-align:right\">\\n<div>\\n</div>\\n</td>,\n",
       " <td data-order=\"-\" style=\"text-align:right\">\\n<div>\\n</div>\\n</td>,\n",
       " <td data-order=\"1\" style=\"text-align:right\">\\n<div>\\n      \\n        \\n          1\\n        \\n      \\n    </div>\\n</td>]"
      ]
     },
     "execution_count": 33,
     "metadata": {},
     "output_type": "execute_result"
    }
   ],
   "source": [
    "pit_tds"
   ]
  },
  {
   "cell_type": "code",
   "execution_count": null,
   "metadata": {},
   "outputs": [],
   "source": []
  }
 ],
 "metadata": {
  "kernelspec": {
   "display_name": "py2",
   "language": "python",
   "name": "py2"
  },
  "language_info": {
   "codemirror_mode": {
    "name": "ipython",
    "version": 2
   },
   "file_extension": ".py",
   "mimetype": "text/x-python",
   "name": "python",
   "nbconvert_exporter": "python",
   "pygments_lexer": "ipython2",
   "version": "2.7.15"
  }
 },
 "nbformat": 4,
 "nbformat_minor": 2
}
